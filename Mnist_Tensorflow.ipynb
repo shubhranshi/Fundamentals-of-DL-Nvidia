{
 "cells": [
  {
   "cell_type": "code",
   "execution_count": 1,
   "metadata": {
    "id": "Bk1G077nmkK3"
   },
   "outputs": [],
   "source": [
    "# TODO: import tensorflow and call it tf\n",
    "import tensorflow as tf"
   ]
  },
  {
   "cell_type": "code",
   "execution_count": 2,
   "metadata": {
    "id": "aeqjnxPvmwkX"
   },
   "outputs": [
    {
     "name": "stdout",
     "output_type": "stream",
     "text": [
      "Downloading data from https://storage.googleapis.com/tensorflow/tf-keras-datasets/mnist.npz\n",
      "11493376/11490434 [==============================] - 4s 0us/step\n"
     ]
    }
   ],
   "source": [
    "# TODO: load mnist dataset from keras\n",
    "mnist = tf.keras.datasets.mnist.load_data()"
   ]
  },
  {
   "cell_type": "code",
   "execution_count": 3,
   "metadata": {
    "colab": {
     "base_uri": "https://localhost:8080/"
    },
    "id": "JxSRsYP6m5cN",
    "outputId": "590c7dbd-27bf-4ada-dc56-949a39cc445f"
   },
   "outputs": [
    {
     "name": "stdout",
     "output_type": "stream",
     "text": [
      "2 <class 'numpy.ndarray'>\n"
     ]
    }
   ],
   "source": [
    "# TODO: try to view the mnist dataset // mnist = ((?,?),(?,?)) minst is a tuple of 2 things\n",
    "# hints: type, length\n",
    "#len(mnist)\n",
    "#type(mnist)\n",
    "print(len(mnist[0]), type(mnist[1][0]))"
   ]
  },
  {
   "cell_type": "markdown",
   "metadata": {
    "id": "f-NEvzsHpw8V"
   },
   "source": [
    "https://www.tensorflow.org/tutorials/keras/classification"
   ]
  },
  {
   "cell_type": "code",
   "execution_count": 4,
   "metadata": {
    "id": "WDsDu2FWm-Su"
   },
   "outputs": [],
   "source": [
    "# split mnist dataset to train and test images and lables\n",
    "(train_images, train_labels), (test_images, test_labels) = mnist"
   ]
  },
  {
   "cell_type": "code",
   "execution_count": 5,
   "metadata": {
    "colab": {
     "base_uri": "https://localhost:8080/",
     "height": 265
    },
    "id": "mZ849l-7prrd",
    "outputId": "c426abc1-c602-4acc-cdae-0385704db5f1"
   },
   "outputs": [
    {
     "data": {
      "image/png": "[encoded data removed]",
      "text/plain": [
       "<Figure size 432x288 with 2 Axes>"
      ]
     },
     "metadata": {
      "needs_background": "light"
     },
     "output_type": "display_data"
    }
   ],
   "source": [
    "# show image\n",
    "import matplotlib.pyplot as plt\n",
    "\n",
    "plt.figure()\n",
    "plt.imshow(train_images[0]) # 1st data record is '5'\n",
    "plt.colorbar()\n",
    "plt.grid(False)\n",
    "plt.show()"
   ]
  },
  {
   "cell_type": "code",
   "execution_count": 6,
   "metadata": {
    "colab": {
     "base_uri": "https://localhost:8080/"
    },
    "id": "1PE9FTiNLzDc",
    "outputId": "a07103d6-c5ea-44b2-d2b3-a8ccbf3ec149"
   },
   "outputs": [
    {
     "name": "stdout",
     "output_type": "stream",
     "text": [
      "0.0\n",
      "1.0\n"
     ]
    }
   ],
   "source": [
    "# TODO: scale the images to 0~1\n",
    "# reason: https://www.linkedin.com/pulse/keras-image-preprocessing-scaling-pixels-training-adwin-jahn/\n",
    "\n",
    "train_images = train_images / 255.0\n",
    "\n",
    "test_images = test_images / 255.0\n",
    "\n",
    "print(train_images.min())\n",
    "print(train_images.max())"
   ]
  },
  {
   "cell_type": "code",
   "execution_count": 7,
   "metadata": {
    "id": "h0mMSHSvqWtL"
   },
   "outputs": [],
   "source": [
    "# TODO: adjust the model\n",
    "\n",
    "model = tf.keras.Sequential([\n",
    "    #https://www.tensorflow.org/api_docs/python/tf/keras/activations\n",
    "\n",
    "    # kernel_regularizer='l2',\n",
    "    tf.keras.layers.Flatten(input_shape=(28, 28)),\n",
    "    #tf.keras.layers.Dense(64, activation='relu'),\n",
    "    tf.keras.layers.Dense(64, kernel_regularizer='l2', activation='relu'),\n",
    "    tf.keras.layers.Dense(10, activation='sigmoid')\n",
    "])"
   ]
  },
  {
   "cell_type": "code",
   "execution_count": 8,
   "metadata": {
    "colab": {
     "base_uri": "https://localhost:8080/"
    },
    "id": "Jtbyaf4j8oZE",
    "outputId": "9e006213-a013-437c-ac37-9fc5e9c65185"
   },
   "outputs": [
    {
     "name": "stdout",
     "output_type": "stream",
     "text": [
      "Model: \"sequential\"\n",
      "_________________________________________________________________\n",
      "Layer (type)                 Output Shape              Param #   \n",
      "=================================================================\n",
      "flatten (Flatten)            (None, 784)               0         \n",
      "_________________________________________________________________\n",
      "dense (Dense)                (None, 64)                50240     \n",
      "_________________________________________________________________\n",
      "dense_1 (Dense)              (None, 10)                650       \n",
      "=================================================================\n",
      "Total params: 50,890\n",
      "Trainable params: 50,890\n",
      "Non-trainable params: 0\n",
      "_________________________________________________________________\n"
     ]
    }
   ],
   "source": [
    "# TODO: summarize the model\n",
    "model.summary()"
   ]
  },
  {
   "cell_type": "code",
   "execution_count": 16,
   "metadata": {
    "id": "HfxP2y7Hgzju"
   },
   "outputs": [],
   "source": [
    "# TODO: adjust hyperparameters (optimizer, loss func)\n",
    "model.compile(#https://www.tensorflow.org/api_docs/python/tf/keras/optimizers \n",
    "       optimizer='adam', # adam / SGD / RMSprop\n",
    "       #https://www.tensorflow.org/api_docs/python/tf/keras/losses\n",
    "       loss=tf.keras.losses.CategoricalCrossentropy(),\n",
    "       metrics=['accuracy'])"
   ]
  },
  {
   "cell_type": "markdown",
   "metadata": {
    "id": "NnpnkLRXuYnh"
   },
   "source": [
    "**if categorical crossentropy (*just run once*)**"
   ]
  },
  {
   "cell_type": "code",
   "execution_count": 10,
   "metadata": {
    "id": "bfcbokIC4mw8"
   },
   "outputs": [],
   "source": [
    "import tensorflow.keras as keras\n",
    "num_categories = 10\n",
    "\n",
    "train_labels = keras.utils.to_categorical(train_labels, num_categories)\n",
    "test_labels = keras.utils.to_categorical(test_labels, num_categories)"
   ]
  },
  {
   "cell_type": "code",
   "execution_count": 17,
   "metadata": {
    "colab": {
     "base_uri": "https://localhost:8080/"
    },
    "id": "saFWrtHQg0L9",
    "outputId": "7cce55c7-e439-403b-a15a-5345c4a9d7df"
   },
   "outputs": [
    {
     "name": "stdout",
     "output_type": "stream",
     "text": [
      "Epoch 1/10\n",
      "1688/1688 [==============================] - 4s 2ms/step - loss: 0.3823 - accuracy: 0.9240 - val_loss: 0.3060 - val_accuracy: 0.9523\n",
      "Epoch 2/10\n",
      "1688/1688 [==============================] - 4s 2ms/step - loss: 0.3433 - accuracy: 0.9367 - val_loss: 0.2849 - val_accuracy: 0.9587\n",
      "Epoch 3/10\n",
      "1688/1688 [==============================] - 4s 2ms/step - loss: 0.3289 - accuracy: 0.9411 - val_loss: 0.2806 - val_accuracy: 0.9540\n",
      "Epoch 4/10\n",
      "1688/1688 [==============================] - 4s 2ms/step - loss: 0.3107 - accuracy: 0.9448 - val_loss: 0.2533 - val_accuracy: 0.9640\n",
      "Epoch 5/10\n",
      "1688/1688 [==============================] - 4s 2ms/step - loss: 0.2964 - accuracy: 0.9476 - val_loss: 0.2720 - val_accuracy: 0.9565\n",
      "Epoch 6/10\n",
      "1688/1688 [==============================] - 4s 2ms/step - loss: 0.2924 - accuracy: 0.9492 - val_loss: 0.2531 - val_accuracy: 0.9662\n",
      "Epoch 7/10\n",
      "1688/1688 [==============================] - 4s 2ms/step - loss: 0.2791 - accuracy: 0.9512 - val_loss: 0.2459 - val_accuracy: 0.9635\n",
      "Epoch 8/10\n",
      "1688/1688 [==============================] - 4s 3ms/step - loss: 0.2740 - accuracy: 0.9524 - val_loss: 0.2509 - val_accuracy: 0.9592\n",
      "Epoch 9/10\n",
      "1688/1688 [==============================] - 4s 2ms/step - loss: 0.2745 - accuracy: 0.9496 - val_loss: 0.2826 - val_accuracy: 0.9493\n",
      "Epoch 10/10\n",
      "1688/1688 [==============================] - 4s 2ms/step - loss: 0.2686 - accuracy: 0.9518 - val_loss: 0.2372 - val_accuracy: 0.9623\n"
     ]
    }
   ],
   "source": [
    "# TODO: adjust epochs\n",
    "history = model.fit(train_images, train_labels, validation_split=0.1, epochs=10)"
   ]
  },
  {
   "cell_type": "code",
   "execution_count": 18,
   "metadata": {
    "colab": {
     "base_uri": "https://localhost:8080/"
    },
    "id": "ebjEMaiUg2xj",
    "outputId": "83121b6b-b4bd-4348-f880-cfd09a0edd45"
   },
   "outputs": [
    {
     "name": "stdout",
     "output_type": "stream",
     "text": [
      "313/313 - 0s - loss: 0.2528 - accuracy: 0.9561\n",
      "\n",
      "Test accuracy: 0.9560999870300293\n"
     ]
    }
   ],
   "source": [
    "test_loss, test_acc = model.evaluate(test_images,  test_labels, verbose=2)\n",
    "\n",
    "print('\\nTest accuracy:', test_acc)"
   ]
  },
  {
   "cell_type": "code",
   "execution_count": 19,
   "metadata": {
    "colab": {
     "base_uri": "https://localhost:8080/",
     "height": 573
    },
    "id": "KBzQTUGTcPpj",
    "outputId": "b1f6da55-8d5b-458f-b24f-3d2bda7205a6"
   },
   "outputs": [
    {
     "data": {
      "image/png": "[encoded data removed]",
      "text/plain": [
       "<Figure size 432x288 with 1 Axes>"
      ]
     },
     "metadata": {
      "needs_background": "light",
      "tags": []
     },
     "output_type": "display_data"
    },
    {
     "data": {
      "image/png": "[encoded data removed]",
      "text/plain": [
       "<Figure size 432x288 with 1 Axes>"
      ]
     },
     "metadata": {
      "needs_background": "light",
      "tags": []
     },
     "output_type": "display_data"
    }
   ],
   "source": [
    "#plot plot plot\n",
    "\n",
    "import matplotlib.pyplot as plt\n",
    "\n",
    "# plot accuracy\n",
    "plt.plot(history.history['accuracy'])\n",
    "plt.plot(history.history['val_accuracy'])\n",
    "plt.title('Model accuracy')\n",
    "plt.ylabel('Accuracy')\n",
    "plt.xlabel('Epoch')\n",
    "plt.legend(['Train', 'Val'], loc='upper left')\n",
    "plt.show()\n",
    "\n",
    "# plot loss\n",
    "plt.plot(history.history['loss'])\n",
    "plt.plot(history.history['val_loss'])\n",
    "plt.title('Model loss')\n",
    "plt.ylabel('Loss')\n",
    "plt.xlabel('Epoch')\n",
    "plt.legend(['Train', 'Val'], loc='upper left')\n",
    "plt.show()"
   ]
  },
  {
   "cell_type": "markdown",
   "metadata": {
    "id": "IehY_Lmem3kk"
   },
   "source": [
    "save/load model\n",
    "\n",
    "https://www.tensorflow.org/guide/keras/save_and_serialize"
   ]
  },
  {
   "cell_type": "code",
   "execution_count": 20,
   "metadata": {
    "id": "Cuwv-Ae7mytb"
   },
   "outputs": [],
   "source": [
    "# save model to a h5 file\n",
    "model.save(\"my_model.h5\")"
   ]
  },
  {
   "cell_type": "code",
   "execution_count": 22,
   "metadata": {
    "id": "z9ecBF-D0Ksj"
   },
   "outputs": [],
   "source": [
    "loaded_model = tf.keras.models.load_model('my_model.h5')"
   ]
  },
  {
   "cell_type": "code",
   "execution_count": 23,
   "metadata": {
    "colab": {
     "base_uri": "https://localhost:8080/"
    },
    "id": "0hlNcaeQ0VM4",
    "outputId": "ac8056ac-e17e-4e82-f8ef-c04f94116b47"
   },
   "outputs": [
    {
     "name": "stdout",
     "output_type": "stream",
     "text": [
      "313/313 [==============================] - 1s 2ms/step - loss: 0.2528 - accuracy: 0.9561\n"
     ]
    },
    {
     "data": {
      "text/plain": [
       "[0.2528381049633026, 0.9560999870300293]"
      ]
     },
     "execution_count": 23,
     "metadata": {
      "tags": []
     },
     "output_type": "execute_result"
    }
   ],
   "source": [
    "loaded_model.evaluate(test_images, test_labels)"
   ]
  }
 ],
 "metadata": {
  "accelerator": "GPU",
  "colab": {
   "collapsed_sections": [],
   "name": "Copy of w6_lab_practice.ipynb",
   "provenance": []
  },
  "kernelspec": {
   "display_name": "Python 3",
   "language": "python",
   "name": "python3"
  },
  "language_info": {
   "codemirror_mode": {
    "name": "ipython",
    "version": 3
   },
   "file_extension": ".py",
   "mimetype": "text/x-python",
   "name": "python",
   "nbconvert_exporter": "python",
   "pygments_lexer": "ipython3",
   "version": "3.8.6"
  }
 },
 "nbformat": 4,
 "nbformat_minor": 1
}
